{
 "cells": [
  {
   "cell_type": "code",
   "execution_count": 88,
   "metadata": {},
   "outputs": [],
   "source": [
    "from bs4 import BeautifulSoup\n",
    "import os\n",
    "import codecs\n",
    "import xml.etree.ElementTree as ET\n",
    "import pandas as pd"
   ]
  },
  {
   "cell_type": "code",
   "execution_count": 120,
   "metadata": {},
   "outputs": [
    {
     "data": {
      "text/plain": [
       "'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'"
      ]
     },
     "execution_count": 120,
     "metadata": {},
     "output_type": "execute_result"
    }
   ],
   "source": [
    "soup = BeautifulSoup(codecs.open(f\"{os.getcwd()}/invoices/NOR170329J92_3122.xml\",\"r\", encoding='utf-8',errors='ignore'), 'xml')\n",
    "ssoup.find(\"cfdi:Comprobante\").get('Certificado')"
   ]
  },
  {
   "cell_type": "code",
   "execution_count": 115,
   "metadata": {},
   "outputs": [],
   "source": [
    "class Factura():\n",
    "\n",
    "    # Constructor of an invoice object\n",
    "    def __init__(self, path):\n",
    "        self.path = path\n",
    "        self.soup = BeautifulSoup(codecs.open(self.path,\"r\", encoding='utf-8',errors='ignore'), 'xml')\n",
    "\n",
    "        self.xsi_schema_location = soup.find(\"cfdi:Comprobante\").get(\"xsi:schemaLocation\")\n",
    "        self.xmlns_tfd = soup.find(\"cfdi:Comprobante\").get(\"xmlns:tfd\")\n",
    "        self.xmlns_notariospublicos = soup.find(\"cfdi:Comprobante\").get(\"xmlns:notariospublicos\")\n",
    "        self.xmlns_xsi = soup.find(\"cfdi:Comprobante\").get(\"xmlns:xsi\")        \n",
    "        self.version = soup.find(\"cfdi:Comprobante\").get(\"Version\")\n",
    "        self.folio = soup.find(\"cfdi:Comprobante\").get(\"Folio\")\n",
    "        self.fecha = soup.find(\"cfdi:Comprobante\").get(\"Fecha\")\n",
    "        self.sello = soup.find(\"cfdi:Comprobante\").get(\"Sello\")\n",
    "        self.formaPago = soup.find(\"cfdi:Comprobante\").get(\"FormaPago\")\n",
    "        self.NoCertificado = soup.find(\"cfdi:Comprobante\").get(\"NoCertificado\")\n",
    "        self.Certificado = soup.find(\"cfdi:Comprobante\").get(\"Certificado\")\n",
    "        self.subTotal = soup.find(\"cfdi:Comprobante\").get(\"SubTotal\")\n",
    "        self.moneda = soup.find(\"cfdi:Comprobante\").get(\"Moneda\")\n",
    "        self.tipoCambio = soup.find(\"cfdi:Comprobante\").get(\"TipoCambio\")\n",
    "        self.total = soup.find(\"cfdi:Comprobante\").get(\"Total\")\n",
    "        self.tipoDeComprobante = soup.find(\"cfdi:Comprobante\").get(\"TipoDeComprobante\")\n",
    "        self.exportacion = soup.find(\"cfdi:Comprobante\").get(\"Exportacion\")\n",
    "        self.metodoPago = soup.find(\"cfdi:Comprobante\").get(\"MetodoPago\")\n",
    "        self.lugarExpedicion = soup.find(\"cfdi:Comprobante\").get(\"LugarExpedicion\")\n",
    "        self.xmlns_cfdi = soup.find(\"cfdi:Comprobante\").get(\"xmlns:cfdi\")\n",
    "\n",
    "\n",
    "        self.emisor = Emisor(self.soup.find('cfdi:Emisor'))\n",
    "        self.receptor = Receptor(self.soup.find('cfdi:Receptor'))\n",
    "        self.productos = pd.DataFrame(columns=\n",
    "                                      [\"xsi_schema_location\",\"xmlns_tfd\",\"xmlns_notariospublicos\",\"xmlns_xsi\",\"version\",\"folio\",\"fecha\",\"sello\"\n",
    "                                       ,\"formaPago\",\"NoCertificado\" ,\"Certificado\",\"subTotal\",\"moneda\",\"tipoCambio\",\"total\" ,\"tipoDeComprobante\"\n",
    "                                       ,\"exportacion\",\"metodoPago\",\"lugarExpedicion\",\"xmlns_cfdi\"])\n",
    "        \n",
    "        for concepto in self.soup.find('cfdi:Conceptos') .find_all('cfdi:Concepto'):\n",
    "            self.productos.loc[len(self.productos)] = [concepto.get('ClaveProdServ')\n",
    "                                                        ,concepto.get('Cantidad')\n",
    "                                                        ,concepto.get('ClaveUnidad')\n",
    "                                                        ,concepto.get('Unidad')\n",
    "                                                        ,concepto.get('Unidad de servicio')\n",
    "                                                        ,concepto.get('Descripcion')\n",
    "                                                        ,concepto.get('ValorUnitario')\n",
    "                                                        ,concepto.get('Importe')\n",
    "                                                        ,concepto.get('ObjetoImp')\n",
    "                                                        ]\n",
    "            \n",
    "\n",
    "class Emisor():\n",
    "    \n",
    "        # Constructor of an Emisor object\n",
    "        def __init__(self, element):\n",
    "            self.nombre = element.get('Nombre')\n",
    "            self.rfc = element.get('Rfc')\n",
    "            self.regimen = element.get('RegimenFiscal')\n",
    "\n",
    "class Receptor():\n",
    "    \n",
    "        # Constructor of an Receptor object\n",
    "        def __init__(self, element):\n",
    "            self.nombre = element.get('Nombre')\n",
    "            self.rfc = element.get('Rfc')\n",
    "            self.regimen = element.get('RegimenFiscalReceptor')\n",
    "            self.uso = element.get('UsoCFDI')\n",
    "            self.domicilio = element.get('DomicilioFiscalReceptor')\n",
    "\n",
    "\n"
   ]
  },
  {
   "cell_type": "code",
   "execution_count": 116,
   "metadata": {},
   "outputs": [
    {
     "data": {
      "text/plain": [
       "<cfdi:Comprobante Certificado=\"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\" Exportacion=\"01\" Fecha=\"2023-07-31T14:23:09\" Folio=\"3122\" FormaPago=\"03\" LugarExpedicion=\"44200\" MetodoPago=\"PUE\" Moneda=\"MXN\" NoCertificado=\"00001000000507471338\" Sello=\"aC90cwAdzU14IcAoxa6DfeXAk6bM7B1XoNW6zwTFCJxazrv7ONJ33WTDg+ItAIpuqqoGKHpE1cJRj8q7uMwgOR009qlTbQewf0+5iqh/i7HtP3FZa9AxNrO0AFEELNOFa73jUpsofsohTA1ywiSfkwo1y+16wgE1vDy5prGv2UQiPbx3CwhJUXe2rvMNzZuD//DhDxvaBKi/zBO0/uHNrcIODekZwhsXU77qOg/c6KWQSmwawPD14ZVeMBXBukez1MOQjWB1WLQXIm+ny4piu/2rVIs9uiseTO4STFs95rQPTAGXbJfU9GvuYqnFDtN9HwB/7JlHvqWzo+YQcIT1hA==\" SubTotal=\"42569.08\" TipoCambio=\"1\" TipoDeComprobante=\"I\" Total=\"49380.13\" Version=\"4.0\" xmlns:cfdi=\"http://www.sat.gob.mx/cfd/4\" xmlns:notariospublicos=\"http://www.sat.gob.mx/notariospublicos\" xmlns:tfd=\"http://www.sat.gob.mx/TimbreFiscalDigital\" xmlns:xsi=\"http://www.w3.org/2001/XMLSchema-instance\" xsi:schemaLocation=\"http://www.sat.gob.mx/cfd/4 http://www.sat.gob.mx/sitio_internet/cfd/4/cfdv40.xsd http://www.sat.gob.mx/notariospublicos http://www.sat.gob.mx/sitio_internet/cfd/notariospublicos/notariospublicos.xsd http://www.sat.gob.mx/TimbreFiscalDigital http://www.sat.gob.mx/sitio_internet/cfd/TimbreFiscalDigital/TimbreFiscalDigitalv11.xsd\">\n",
       "<cfdi:Emisor Nombre=\"NOTARIOS ORGANISTA\" RegimenFiscal=\"626\" Rfc=\"NOR170329J92\"/>\n",
       "<cfdi:Receptor DomicilioFiscalReceptor=\"45150\" Nombre=\"DIEGO OCTAVIO PEREZ URBINA\" RegimenFiscalReceptor=\"616\" Rfc=\"PEUD011006MG8\" UsoCFDI=\"S01\"/>\n",
       "<cfdi:Conceptos>\n",
       "<cfdi:Concepto Cantidad=\"1.00\" ClaveProdServ=\"80121703\" ClaveUnidad=\"E48\" Descripcion=\"HONORARIOS\" Importe=\"42569.08\" NoIdentificacion=\"HON\" ObjetoImp=\"02\" Unidad=\"1\" ValorUnitario=\"42569.08\">\n",
       "<cfdi:Impuestos>\n",
       "<cfdi:Traslados>\n",
       "<cfdi:Traslado Base=\"42569.08\" Importe=\"6811.05\" Impuesto=\"002\" TasaOCuota=\"0.160000\" TipoFactor=\"Tasa\"/>\n",
       "</cfdi:Traslados>\n",
       "</cfdi:Impuestos>\n",
       "</cfdi:Concepto>\n",
       "</cfdi:Conceptos>\n",
       "<cfdi:Impuestos TotalImpuestosRetenidos=\"0.00\" TotalImpuestosTrasladados=\"6811.05\">\n",
       "<cfdi:Traslados>\n",
       "<cfdi:Traslado Base=\"42569.08\" Importe=\"6811.05\" Impuesto=\"002\" TasaOCuota=\"0.160000\" TipoFactor=\"Tasa\"/>\n",
       "</cfdi:Traslados>\n",
       "</cfdi:Impuestos>\n",
       "<cfdi:Complemento>\n",
       "<notariospublicos:NotariosPublicos Version=\"1.0\">\n",
       "<notariospublicos:DescInmuebles>\n",
       "<notariospublicos:DescInmueble Calle=\"Avenida Guadalupe\" CodigoPostal=\"45010\" Colonia=\"Condominio Chapalita Inn\" Estado=\"15\" Localidad=\"ZAPOPAN\" Municipio=\"ZAPOPAN\" NoExterior=\"6601\" NoInterior=\"Danza del Venado 20\" Pais=\"MEX\" TipoInmueble=\"03\"/>\n",
       "</notariospublicos:DescInmuebles>\n",
       "<notariospublicos:DatosOperacion FechaInstNotarial=\"2023-08-01\" IVA=\"0\" MontoOperacion=\"2800000\" NumInstrumentoNotarial=\"14607\" Subtotal=\"2800000\"/>\n",
       "<notariospublicos:DatosNotario Adscripcion=\"SAN PEDRO TLAQUEPAQUE\" CURP=\"OAPA730110HJCRRL00\" EntidadFederativa=\"15\" NumNotaria=\"20\"/>\n",
       "<notariospublicos:DatosEnajenante CoproSocConyugalE=\"No\">\n",
       "<notariospublicos:DatosEnajenantesCopSC>\n",
       "<notariospublicos:DatosEnajenanteCopSC ApellidoMaterno=\"SALGADO\" ApellidoPaterno=\"MARTINEZ\" CURP=\"MASE661103HMSRLN01\" Nombre=\"ENRIQUE\" Porcentaje=\"25.00\" RFC=\"MASE661103GW5\"/>\n",
       "<notariospublicos:DatosEnajenanteCopSC ApellidoMaterno=\"SALGADO\" ApellidoPaterno=\"MARTINEZ\" CURP=\"MASR661103HMSRLL07\" Nombre=\"RAUL\" Porcentaje=\"25.00\" RFC=\"MASR661103CL0\"/>\n",
       "<notariospublicos:DatosEnajenanteCopSC ApellidoMaterno=\"SALGADO\" ApellidoPaterno=\"MARTINEZ\" CURP=\"MASJ701119MMSRLL02\" Nombre=\"JULIETA\" Porcentaje=\"25.00\" RFC=\"MASJ701119M7A\"/>\n",
       "<notariospublicos:DatosEnajenanteCopSC ApellidoMaterno=\"SALGADO\" ApellidoPaterno=\"MARTINEZ\" CURP=\"MASM721105MMSRLN01\" Nombre=\"MONICA\" Porcentaje=\"25.00\" RFC=\"MASM721105L37\"/>\n",
       "</notariospublicos:DatosEnajenantesCopSC>\n",
       "</notariospublicos:DatosEnajenante>\n",
       "<notariospublicos:DatosAdquiriente CoproSocConyugalE=\"Si\">\n",
       "<notariospublicos:DatosUnAdquiriente ApellidoMaterno=\"URBINA\" CURP=\"PEUD011006HJCRRGA3\" Nombre=\"DIEGO OCTAVIO\" RFC=\"PEUD011006MG8\"/>\n",
       "</notariospublicos:DatosAdquiriente>\n",
       "</notariospublicos:NotariosPublicos>\n",
       "<tfd:TimbreFiscalDigital FechaTimbrado=\"2023-08-01T14:23:03\" NoCertificadoSAT=\"00001000000503727538\" RfcProvCertif=\"SAD110722MQA\" SelloCFD=\"aC90cwAdzU14IcAoxa6DfeXAk6bM7B1XoNW6zwTFCJxazrv7ONJ33WTDg+ItAIpuqqoGKHpE1cJRj8q7uMwgOR009qlTbQewf0+5iqh/i7HtP3FZa9AxNrO0AFEELNOFa73jUpsofsohTA1ywiSfkwo1y+16wgE1vDy5prGv2UQiPbx3CwhJUXe2rvMNzZuD//DhDxvaBKi/zBO0/uHNrcIODekZwhsXU77qOg/c6KWQSmwawPD14ZVeMBXBukez1MOQjWB1WLQXIm+ny4piu/2rVIs9uiseTO4STFs95rQPTAGXbJfU9GvuYqnFDtN9HwB/7JlHvqWzo+YQcIT1hA==\" SelloSAT=\"PSWR1MiLcv2sDwVe3M5OUm4aJ787RouoBqsuukAcbPXE/i7sVJtByZik1/nORjYiDHHo0cYXaBerGx9L+IM+2tU42bKMVLlZvxDpeJofCKTsutUNGu95MDieEFljrl9Nkwa4IwNoVnhIGf87zBSqSoSVCtk3ogQ6t6ruxTErvo3fTfZJWWCrCxkR/KdHLlbXy05ziPOHldsh0C2dEaq1hyz1utNlOzesYATutmI3D4gDnrfXnvvHtkzy0hx3D1iFBi27Y2lG3Mdh8l77cT32igLsr0VjzsA7f3Km4Bu6VVqITEXA6UpQ6ZKCxk26l1E9R7flu3TcS1jdFUKOOLn3LQ==\" UUID=\"C042BAB2-B07C-4A0A-A24B-C9923A606C09\" Version=\"1.1\"/>\n",
       "</cfdi:Complemento>\n",
       "</cfdi:Comprobante>"
      ]
     },
     "execution_count": 116,
     "metadata": {},
     "output_type": "execute_result"
    }
   ],
   "source": [
    "Factura(f\"{os.getcwd()}/invoices/NOR170329J92_3122.xml\").comprobante\n"
   ]
  },
  {
   "cell_type": "code",
   "execution_count": 73,
   "metadata": {},
   "outputs": [
    {
     "data": {
      "text/plain": [
       "'<?xml version=\"1.0\" encoding=\"utf-8\"?>\\n<cfdi:Comprobante Certificado=\"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\" Exportacion=\"01\" Fecha=\"2024-04-07T13:58:16\" Folio=\"240407-000534863161\" FormaPago=\"99\" LugarExpedicion=\"54030\" MetodoPago=\"PPD\" Moneda=\"MXN\" NoCertificado=\"00001000000512979260\" Sello=\"gFovJvFvX8vzl9ESKvze61l+9FZ3xZ6NblazwXcdeiEanOsVWiLD4xsSrVCHYZtEMYdMKXjlRpnTXVxcJPv8Nb8ERSKtk+Ij7ZaBKfY79WbIcqwQqmdwkvvOfqanvWsRfKuWKog4PDSs/+oqXP17LPfr63/eHR280UkeAgl7hihSTw6hODZYZ58C/FledkrYurrf+jf50rr6AVR6vw2qcoCOqZSLvY8e2HWJTiFMIBND/4C7DFzlvzqEhLRuhcO3OVmIkdOBrnimS9M0tcVDiwrLlX4AtOjXOyhoGEzdP0ynydwBC5HMd503p8X1ZDxoEC00o46Ji3JHRrpOzMohBg==\" Serie=\"FSAT\" SubTotal=\"300.86\" TipoCambio=\"1\" TipoDeComprobante=\"I\" Total=\"349.00\" Version=\"4.0\" xmlns:cfdi=\"http://www.sat.gob.mx/cfd/4\" xmlns:xsi=\"http://www.w3.org/2001/XMLSchema-instance\" xsi:schemaLocation=\"http://www.sat.gob.mx/cfd/4 http://www.sat.gob.mx/sitio_internet/cfd/4/cfdv40.xsd\">\\n <cfdi:Emisor Nombre=\"AT&amp;T COMUNICACIONES DIGITALES\" RegimenFiscal=\"601\" Rfc=\"CNM980114PI2\"/>\\n <cfdi:Receptor DomicilioFiscalReceptor=\"54030\" Nombre=\"DIEGO OCTAVIO PEREZ URBINA\" RegimenFiscalReceptor=\"616\" Rfc=\"XAXX010101000\" UsoCFDI=\"S01\"/>\\n <cfdi:Conceptos>\\n  <cfdi:Concepto Cantidad=\"1\" ClaveProdServ=\"83111603\" ClaveUnidad=\"E48\" Descripcion=\"Control\" Importe=\"43.10\" ObjetoImp=\"02\" Unidad=\"Unidad de servicio\" ValorUnitario=\"43.10\">\\n   <cfdi:Impuestos>\\n    <cfdi:Traslados>\\n     <cfdi:Traslado Base=\"43.10\" Importe=\"6.90\" Impuesto=\"002\" TasaOCuota=\"0.160000\" TipoFactor=\"Tasa\"/>\\n    </cfdi:Traslados>\\n   </cfdi:Impuestos>\\n  </cfdi:Concepto>\\n  <cfdi:Concepto Cantidad=\"1\" ClaveProdServ=\"83111603\" ClaveUnidad=\"E48\" Descripcion=\"ATT rmalo 3 GB\" Importe=\"180.43\" ObjetoImp=\"02\" Unidad=\"Unidad de servicio\" ValorUnitario=\"180.43\">\\n   <cfdi:Impuestos>\\n    <cfdi:Traslados>\\n     <cfdi:Traslado Base=\"180.43\" Importe=\"28.87\" Impuesto=\"002\" TasaOCuota=\"0.160000\" TipoFactor=\"Tasa\"/>\\n    </cfdi:Traslados>\\n   </cfdi:Impuestos>\\n  </cfdi:Concepto>\\n  <cfdi:Concepto Cantidad=\"1\" ClaveProdServ=\"83111603\" ClaveUnidad=\"E48\" Descripcion=\"ATT rmalo 3 GB\" Importe=\"12.89\" ObjetoImp=\"02\" Unidad=\"Unidad de servicio\" ValorUnitario=\"12.89\">\\n   <cfdi:Impuestos>\\n    <cfdi:Traslados>\\n     <cfdi:Traslado Base=\"12.89\" Importe=\"2.06\" Impuesto=\"002\" TasaOCuota=\"0.160000\" TipoFactor=\"Tasa\"/>\\n    </cfdi:Traslados>\\n   </cfdi:Impuestos>\\n  </cfdi:Concepto>\\n  <cfdi:Concepto Cantidad=\"1\" ClaveProdServ=\"83111603\" ClaveUnidad=\"E48\" Descripcion=\"ATT rmalo 3 GB\" Importe=\"64.44\" ObjetoImp=\"02\" Unidad=\"Unidad de servicio\" ValorUnitario=\"64.44\">\\n   <cfdi:Impuestos>\\n    <cfdi:Traslados>\\n     <cfdi:Traslado Base=\"64.44\" Importe=\"10.31\" Impuesto=\"002\" TasaOCuota=\"0.160000\" TipoFactor=\"Tasa\"/>\\n    </cfdi:Traslados>\\n   </cfdi:Impuestos>\\n  </cfdi:Concepto>\\n </cfdi:Conceptos>\\n <cfdi:Impuestos TotalImpuestosTrasladados=\"48.14\">\\n  <cfdi:Traslados>\\n   <cfdi:Traslado Base=\"300.86\" Importe=\"48.14\" Impuesto=\"002\" TasaOCuota=\"0.160000\" TipoFactor=\"Tasa\"/>\\n  </cfdi:Traslados>\\n </cfdi:Impuestos>\\n <cfdi:Complemento>\\n  <tfd:TimbreFiscalDigital FechaTimbrado=\"2024-04-07T21:59:10\" NoCertificadoSAT=\"00001000000704859748\" RfcProvCertif=\"TLE011122SC2\" SelloCFD=\"gFovJvFvX8vzl9ESKvze61l+9FZ3xZ6NblazwXcdeiEanOsVWiLD4xsSrVCHYZtEMYdMKXjlRpnTXVxcJPv8Nb8ERSKtk+Ij7ZaBKfY79WbIcqwQqmdwkvvOfqanvWsRfKuWKog4PDSs/+oqXP17LPfr63/eHR280UkeAgl7hihSTw6hODZYZ58C/FledkrYurrf+jf50rr6AVR6vw2qcoCOqZSLvY8e2HWJTiFMIBND/4C7DFzlvzqEhLRuhcO3OVmIkdOBrnimS9M0tcVDiwrLlX4AtOjXOyhoGEzdP0ynydwBC5HMd503p8X1ZDxoEC00o46Ji3JHRrpOzMohBg==\" SelloSAT=\"J0Azg/FXPkOwInAhjR9wKyobfPyLkaVTGaIPJZ42C10nXkG9Doy8Au/tS3VQEdeFXaeJoecBfr/kxK1qsiHSMo1C5ofegi895SWOwNyXVwlcbfgYu/PyOXPJ3VxivrS91SyIGcAZ7u+J7knAC10DQiEjX1TD66C4+0rEiub0hDZResTdZgd/1gxUpLNe0tzeNDX31FJ5xhCqZlX+ap9C20eZ6aQv67fZ4+KR34fMQI+26lGsoVZastd1QvKjz8AUhErKDAhZy6xlnzXfPidNr59n4Ps5plPqARPJ6K+qs1AdWxg6qwyekx3WOl1QLwSliFBAqVg0Fhe1Ar75KjZBYQ==\" UUID=\"619C9E05-074E-48EF-B5CE-4B268D74AD6C\" Version=\"1.1\" xmlns:tfd=\"http://www.sat.gob.mx/TimbreFiscalDigital\" xsi:schemaLocation=\"http://www.sat.gob.mx/TimbreFiscalDigital http://www.sat.gob.mx/sitio_internet/cfd/TimbreFiscalDigital/TimbreFiscalDigitalv11.xsd\"/>\\n </cfdi:Complemento>\\n</cfdi:Comprobante>\\n'"
      ]
     },
     "execution_count": 73,
     "metadata": {},
     "output_type": "execute_result"
    }
   ],
   "source": [
    "import codecs\n",
    "with codecs.open(f\"{os.getcwd()}/invoices/000000586751825.xml\", 'r', encoding='utf-8',errors='ignore') as f:\n",
    "    data = f.read()\n",
    "\n",
    "soup = BeautifulSoup(data, \"xml\")\n",
    "soup.prettify()"
   ]
  },
  {
   "cell_type": "code",
   "execution_count": null,
   "metadata": {},
   "outputs": [],
   "source": []
  }
 ],
 "metadata": {
  "kernelspec": {
   "display_name": "base",
   "language": "python",
   "name": "python3"
  },
  "language_info": {
   "codemirror_mode": {
    "name": "ipython",
    "version": 3
   },
   "file_extension": ".py",
   "mimetype": "text/x-python",
   "name": "python",
   "nbconvert_exporter": "python",
   "pygments_lexer": "ipython3",
   "version": "3.11.4"
  }
 },
 "nbformat": 4,
 "nbformat_minor": 2
}
