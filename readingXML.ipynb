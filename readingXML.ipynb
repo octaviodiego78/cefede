{
 "cells": [
  {
   "cell_type": "code",
   "execution_count": 3,
   "metadata": {},
   "outputs": [],
   "source": [
    "from bs4 import BeautifulSoup\n",
    "import os\n"
   ]
  },
  {
   "cell_type": "code",
   "execution_count": 9,
   "metadata": {},
   "outputs": [
    {
     "data": {
      "text/plain": [
       "'<?xml version=\"1.0\" encoding=\"utf-8\"?>\\n<cfdi:Comprobante Certificado=\"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\" Exportacion=\"01\" Fecha=\"2024-04-07T13:58:16\" Folio=\"240407-000534863161\" FormaPago=\"99\" LugarExpedicion=\"54030\" MetodoPago=\"PPD\" Moneda=\"MXN\" NoCertificado=\"00001000000512979260\" Sello=\"gFovJvFvX8vzl9ESKvze61l+9FZ3xZ6NblazwXcdeiEanOsVWiLD4xsSrVCHYZtEMYdMKXjlRpnTXVxcJPv8Nb8ERSKtk+Ij7ZaBKfY79WbIcqwQqmdwkvvOfqanvWsRfKuWKog4PDSs/+oqXP17LPfr63/eHR280UkeAgl7hihSTw6hODZYZ58C/FledkrYurrf+jf50rr6AVR6vw2qcoCOqZSLvY8e2HWJTiFMIBND/4C7DFzlvzqEhLRuhcO3OVmIkdOBrnimS9M0tcVDiwrLlX4AtOjXOyhoGEzdP0ynydwBC5HMd503p8X1ZDxoEC00o46Ji3JHRrpOzMohBg==\" Serie=\"FSAT\" SubTotal=\"300.86\" TipoCambio=\"1\" TipoDeComprobante=\"I\" Total=\"349.00\" Version=\"4.0\" xmlns:cfdi=\"http://www.sat.gob.mx/cfd/4\" xmlns:xsi=\"http://www.w3.org/2001/XMLSchema-instance\" xsi:schemaLocation=\"http://www.sat.gob.mx/cfd/4 http://www.sat.gob.mx/sitio_internet/cfd/4/cfdv40.xsd\">\\n <cfdi:Emisor Nombre=\"AT&amp;T COMUNICACIONES DIGITALES\" RegimenFiscal=\"601\" Rfc=\"CNM980114PI2\"/>\\n <cfdi:Receptor DomicilioFiscalReceptor=\"54030\" Nombre=\"DIEGO OCTAVIO PEREZ URBINA\" RegimenFiscalReceptor=\"616\" Rfc=\"XAXX010101000\" UsoCFDI=\"S01\"/>\\n <cfdi:Conceptos>\\n  <cfdi:Concepto Cantidad=\"1\" ClaveProdServ=\"83111603\" ClaveUnidad=\"E48\" Descripcion=\"Control\" Importe=\"43.10\" ObjetoImp=\"02\" Unidad=\"Unidad de servicio\" ValorUnitario=\"43.10\">\\n   <cfdi:Impuestos>\\n    <cfdi:Traslados>\\n     <cfdi:Traslado Base=\"43.10\" Importe=\"6.90\" Impuesto=\"002\" TasaOCuota=\"0.160000\" TipoFactor=\"Tasa\"/>\\n    </cfdi:Traslados>\\n   </cfdi:Impuestos>\\n  </cfdi:Concepto>\\n  <cfdi:Concepto Cantidad=\"1\" ClaveProdServ=\"83111603\" ClaveUnidad=\"E48\" Descripcion=\"ATT rmalo 3 GB\" Importe=\"180.43\" ObjetoImp=\"02\" Unidad=\"Unidad de servicio\" ValorUnitario=\"180.43\">\\n   <cfdi:Impuestos>\\n    <cfdi:Traslados>\\n     <cfdi:Traslado Base=\"180.43\" Importe=\"28.87\" Impuesto=\"002\" TasaOCuota=\"0.160000\" TipoFactor=\"Tasa\"/>\\n    </cfdi:Traslados>\\n   </cfdi:Impuestos>\\n  </cfdi:Concepto>\\n  <cfdi:Concepto Cantidad=\"1\" ClaveProdServ=\"83111603\" ClaveUnidad=\"E48\" Descripcion=\"ATT rmalo 3 GB\" Importe=\"12.89\" ObjetoImp=\"02\" Unidad=\"Unidad de servicio\" ValorUnitario=\"12.89\">\\n   <cfdi:Impuestos>\\n    <cfdi:Traslados>\\n     <cfdi:Traslado Base=\"12.89\" Importe=\"2.06\" Impuesto=\"002\" TasaOCuota=\"0.160000\" TipoFactor=\"Tasa\"/>\\n    </cfdi:Traslados>\\n   </cfdi:Impuestos>\\n  </cfdi:Concepto>\\n  <cfdi:Concepto Cantidad=\"1\" ClaveProdServ=\"83111603\" ClaveUnidad=\"E48\" Descripcion=\"ATT rmalo 3 GB\" Importe=\"64.44\" ObjetoImp=\"02\" Unidad=\"Unidad de servicio\" ValorUnitario=\"64.44\">\\n   <cfdi:Impuestos>\\n    <cfdi:Traslados>\\n     <cfdi:Traslado Base=\"64.44\" Importe=\"10.31\" Impuesto=\"002\" TasaOCuota=\"0.160000\" TipoFactor=\"Tasa\"/>\\n    </cfdi:Traslados>\\n   </cfdi:Impuestos>\\n  </cfdi:Concepto>\\n </cfdi:Conceptos>\\n <cfdi:Impuestos TotalImpuestosTrasladados=\"48.14\">\\n  <cfdi:Traslados>\\n   <cfdi:Traslado Base=\"300.86\" Importe=\"48.14\" Impuesto=\"002\" TasaOCuota=\"0.160000\" TipoFactor=\"Tasa\"/>\\n  </cfdi:Traslados>\\n </cfdi:Impuestos>\\n <cfdi:Complemento>\\n  <tfd:TimbreFiscalDigital FechaTimbrado=\"2024-04-07T21:59:10\" NoCertificadoSAT=\"00001000000704859748\" RfcProvCertif=\"TLE011122SC2\" SelloCFD=\"gFovJvFvX8vzl9ESKvze61l+9FZ3xZ6NblazwXcdeiEanOsVWiLD4xsSrVCHYZtEMYdMKXjlRpnTXVxcJPv8Nb8ERSKtk+Ij7ZaBKfY79WbIcqwQqmdwkvvOfqanvWsRfKuWKog4PDSs/+oqXP17LPfr63/eHR280UkeAgl7hihSTw6hODZYZ58C/FledkrYurrf+jf50rr6AVR6vw2qcoCOqZSLvY8e2HWJTiFMIBND/4C7DFzlvzqEhLRuhcO3OVmIkdOBrnimS9M0tcVDiwrLlX4AtOjXOyhoGEzdP0ynydwBC5HMd503p8X1ZDxoEC00o46Ji3JHRrpOzMohBg==\" SelloSAT=\"J0Azg/FXPkOwInAhjR9wKyobfPyLkaVTGaIPJZ42C10nXkG9Doy8Au/tS3VQEdeFXaeJoecBfr/kxK1qsiHSMo1C5ofegi895SWOwNyXVwlcbfgYu/PyOXPJ3VxivrS91SyIGcAZ7u+J7knAC10DQiEjX1TD66C4+0rEiub0hDZResTdZgd/1gxUpLNe0tzeNDX31FJ5xhCqZlX+ap9C20eZ6aQv67fZ4+KR34fMQI+26lGsoVZastd1QvKjz8AUhErKDAhZy6xlnzXfPidNr59n4Ps5plPqARPJ6K+qs1AdWxg6qwyekx3WOl1QLwSliFBAqVg0Fhe1Ar75KjZBYQ==\" UUID=\"619C9E05-074E-48EF-B5CE-4B268D74AD6C\" Version=\"1.1\" xmlns:tfd=\"http://www.sat.gob.mx/TimbreFiscalDigital\" xsi:schemaLocation=\"http://www.sat.gob.mx/TimbreFiscalDigital http://www.sat.gob.mx/sitio_internet/cfd/TimbreFiscalDigital/TimbreFiscalDigitalv11.xsd\"/>\\n </cfdi:Complemento>\\n</cfdi:Comprobante>\\n'"
      ]
     },
     "execution_count": 9,
     "metadata": {},
     "output_type": "execute_result"
    }
   ],
   "source": [
    "import codecs\n",
    "with codecs.open(f\"{os.getcwd()}/invoices/000000586751825.xml\", 'r', encoding='utf-8',errors='ignore') as f:\n",
    "    data = f.read()\n",
    "\n",
    "soup = BeautifulSoup(data, \"xml\")\n",
    "soup.prettify()"
   ]
  },
  {
   "cell_type": "code",
   "execution_count": 13,
   "metadata": {},
   "outputs": [
    {
     "name": "stdout",
     "output_type": "stream",
     "text": [
      "<cfdi:Concepto Cantidad=\"1\" ClaveProdServ=\"83111603\" ClaveUnidad=\"E48\" Descripcion=\"Control\" Importe=\"43.10\" ObjetoImp=\"02\" Unidad=\"Unidad de servicio\" ValorUnitario=\"43.10\">\n",
      "<cfdi:Impuestos>\n",
      "<cfdi:Traslados>\n",
      "<cfdi:Traslado Base=\"43.10\" Importe=\"6.90\" Impuesto=\"002\" TasaOCuota=\"0.160000\" TipoFactor=\"Tasa\"/>\n",
      "</cfdi:Traslados>\n",
      "</cfdi:Impuestos>\n",
      "</cfdi:Concepto>\n",
      "\n",
      "<cfdi:Concepto Cantidad=\"1\" ClaveProdServ=\"83111603\" ClaveUnidad=\"E48\" Descripcion=\"ATT rmalo 3 GB\" Importe=\"180.43\" ObjetoImp=\"02\" Unidad=\"Unidad de servicio\" ValorUnitario=\"180.43\">\n",
      "<cfdi:Impuestos>\n",
      "<cfdi:Traslados>\n",
      "<cfdi:Traslado Base=\"180.43\" Importe=\"28.87\" Impuesto=\"002\" TasaOCuota=\"0.160000\" TipoFactor=\"Tasa\"/>\n",
      "</cfdi:Traslados>\n",
      "</cfdi:Impuestos>\n",
      "</cfdi:Concepto>\n",
      "\n",
      "<cfdi:Concepto Cantidad=\"1\" ClaveProdServ=\"83111603\" ClaveUnidad=\"E48\" Descripcion=\"ATT rmalo 3 GB\" Importe=\"12.89\" ObjetoImp=\"02\" Unidad=\"Unidad de servicio\" ValorUnitario=\"12.89\">\n",
      "<cfdi:Impuestos>\n",
      "<cfdi:Traslados>\n",
      "<cfdi:Traslado Base=\"12.89\" Importe=\"2.06\" Impuesto=\"002\" TasaOCuota=\"0.160000\" TipoFactor=\"Tasa\"/>\n",
      "</cfdi:Traslados>\n",
      "</cfdi:Impuestos>\n",
      "</cfdi:Concepto>\n",
      "\n",
      "<cfdi:Concepto Cantidad=\"1\" ClaveProdServ=\"83111603\" ClaveUnidad=\"E48\" Descripcion=\"ATT rmalo 3 GB\" Importe=\"64.44\" ObjetoImp=\"02\" Unidad=\"Unidad de servicio\" ValorUnitario=\"64.44\">\n",
      "<cfdi:Impuestos>\n",
      "<cfdi:Traslados>\n",
      "<cfdi:Traslado Base=\"64.44\" Importe=\"10.31\" Impuesto=\"002\" TasaOCuota=\"0.160000\" TipoFactor=\"Tasa\"/>\n",
      "</cfdi:Traslados>\n",
      "</cfdi:Impuestos>\n",
      "</cfdi:Concepto>\n",
      "\n"
     ]
    }
   ],
   "source": [
    "for concepto in soup.find(\"cfdi:Conceptos\").find_all(\"cfdi:Concepto\"):\n",
    "    print(concepto)\n",
    "    print(\"\")"
   ]
  },
  {
   "cell_type": "code",
   "execution_count": null,
   "metadata": {},
   "outputs": [],
   "source": []
  }
 ],
 "metadata": {
  "kernelspec": {
   "display_name": "base",
   "language": "python",
   "name": "python3"
  },
  "language_info": {
   "codemirror_mode": {
    "name": "ipython",
    "version": 3
   },
   "file_extension": ".py",
   "mimetype": "text/x-python",
   "name": "python",
   "nbconvert_exporter": "python",
   "pygments_lexer": "ipython3",
   "version": "3.11.4"
  }
 },
 "nbformat": 4,
 "nbformat_minor": 2
}
